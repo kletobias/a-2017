{
 "cells": [
  {
   "cell_type": "code",
   "execution_count": 1,
   "metadata": {
    "collapsed": true
   },
   "outputs": [
    {
     "ename": "ModuleNotFoundError",
     "evalue": "No module named 'sklearn'",
     "output_type": "error",
     "traceback": [
      "\u001b[0;31m---------------------------------------------------------------------------\u001b[0m",
      "\u001b[0;31mModuleNotFoundError\u001b[0m                       Traceback (most recent call last)",
      "\u001b[0;32m<ipython-input-1-c65db87093a8>\u001b[0m in \u001b[0;36m<module>\u001b[0;34m\u001b[0m\n\u001b[1;32m      6\u001b[0m \u001b[0;32mfrom\u001b[0m \u001b[0mmath\u001b[0m \u001b[0;32mimport\u001b[0m \u001b[0mradians\u001b[0m\u001b[0;34m,\u001b[0m \u001b[0mcos\u001b[0m\u001b[0;34m,\u001b[0m \u001b[0msin\u001b[0m\u001b[0;34m,\u001b[0m \u001b[0masin\u001b[0m\u001b[0;34m,\u001b[0m \u001b[0msqrt\u001b[0m\u001b[0;34m\u001b[0m\u001b[0m\n\u001b[1;32m      7\u001b[0m \u001b[0;32mimport\u001b[0m \u001b[0mdatetime\u001b[0m\u001b[0;34m\u001b[0m\u001b[0m\n\u001b[0;32m----> 8\u001b[0;31m \u001b[0;32mfrom\u001b[0m \u001b[0msklearn\u001b[0m\u001b[0;34m.\u001b[0m\u001b[0mlinear_model\u001b[0m \u001b[0;32mimport\u001b[0m \u001b[0mLinearRegression\u001b[0m\u001b[0;34m\u001b[0m\u001b[0m\n\u001b[0m\u001b[1;32m      9\u001b[0m \u001b[0;32mimport\u001b[0m \u001b[0mseaborn\u001b[0m \u001b[0;32mas\u001b[0m \u001b[0msns\u001b[0m\u001b[0;34m\u001b[0m\u001b[0m\n\u001b[1;32m     10\u001b[0m \u001b[0;32mimport\u001b[0m \u001b[0mmatplotlib\u001b[0m\u001b[0;34m\u001b[0m\u001b[0m\n",
      "\u001b[0;31mModuleNotFoundError\u001b[0m: No module named 'sklearn'"
     ]
    }
   ],
   "source": [
    "import pandas as pd\n",
    "import sys\n",
    "import numpy as np\n",
    "import scipy as sp\n",
    "import matplotlib.pyplot as plt\n",
    "from math import radians, cos, sin, asin, sqrt\n",
    "import datetime\n",
    "from sklearn.linear_model import LinearRegression\n",
    "import seaborn as sns\n",
    "import matplotlib\n",
    "#sns.set(style = \"ticks\")\n",
    "sns.set(style = \"ticks\",context = \"notebook\")\n",
    "\n",
    "%matplotlib inline\n",
    "\n",
    "#print(plt.style.available)\n",
    "plt.style.use(\"dark_background\")\n",
    "\n",
    "#matplotlib.rcParams['figure.dpi'] = 300\n"
   ]
  },
  {
   "cell_type": "markdown",
   "metadata": {},
   "source": [
    "Download the data from \n",
    "\n",
    "https://drive.google.com/open?id=0B28c493CP9GtMzN1emFoMkJNNlU\n"
   ]
  },
  {
   "cell_type": "markdown",
   "metadata": {},
   "source": [
    "#hubway_stations = pd.read_csv(\"/Users/tobiasklein 1/Dropbox/Data_Science/courses/cs109/Data/hubway_data\"\n",
    "#                             \"/hubway_stations.csv\", low_memory=False)[['id', 'lat', 'lng']] \n",
    "#hubway_stations.describe()\n",
    "#print(hubway_stations.describe())\n",
    "#hubway_stations.head()"
   ]
  },
  {
   "cell_type": "markdown",
   "metadata": {},
   "source": [
    "# First Look At The Data"
   ]
  },
  {
   "cell_type": "code",
   "execution_count": 2,
   "metadata": {
    "collapsed": false
   },
   "outputs": [
    {
     "name": "stdout",
     "output_type": "stream",
     "text": [
      "   seq_id  hubway_id  status  duration          start_date  strt_statn  \\\n",
      "0       1          8  Closed         9  7/28/2011 10:12:00        23.0   \n",
      "1       2          9  Closed       220  7/28/2011 10:21:00        23.0   \n",
      "2       3         10  Closed        56  7/28/2011 10:33:00        23.0   \n",
      "3       4         11  Closed        64  7/28/2011 10:35:00        23.0   \n",
      "4       5         12  Closed        12  7/28/2011 10:37:00        23.0   \n",
      "\n",
      "             end_date  end_statn bike_nr  subsc_type zip_code  birth_date  \\\n",
      "0  7/28/2011 10:12:00       23.0  B00468  Registered   '97217      1976.0   \n",
      "1  7/28/2011 10:25:00       23.0  B00554  Registered   '02215      1966.0   \n",
      "2  7/28/2011 10:34:00       23.0  B00456  Registered   '02108      1943.0   \n",
      "3  7/28/2011 10:36:00       23.0  B00554  Registered   '02116      1981.0   \n",
      "4  7/28/2011 10:37:00       23.0  B00554  Registered   '97214      1983.0   \n",
      "\n",
      "   gender  \n",
      "0    Male  \n",
      "1    Male  \n",
      "2    Male  \n",
      "3  Female  \n",
      "4  Female  \n"
     ]
    }
   ],
   "source": [
    "hubway_data = pd.read_csv(\"/Users/tobiasklein 1/Dropbox/Data_Science/courses/cs109/Data/hubway_data/hubway_trips.csv\", low_memory = False)[[\"seq_id\",\"hubway_id\",\"status\",\"duration\",\"start_date\",\"strt_statn\",\"end_date\",\"end_statn\",\"bike_nr\",\"subsc_type\",\"zip_code\",\"birth_date\",\"gender\"]]\n",
    "#print(hubway_data)\n",
    "print(hubway_data.head())\n"
   ]
  },
  {
   "cell_type": "markdown",
   "metadata": {},
   "source": [
    "# Who?"
   ]
  },
  {
   "cell_type": "code",
   "execution_count": 4,
   "metadata": {
    "collapsed": true
   },
   "outputs": [],
   "source": [
    "year_to_age = lambda s: 0 if 'N' in s else 2018 - int(s)"
   ]
  },
  {
   "cell_type": "code",
   "execution_count": 5,
   "metadata": {
    "collapsed": false
   },
   "outputs": [
    {
     "data": {
      "image/png": "[encoded data removed]",
      "text/plain": [
       "<Figure size 1080x432 with 2 Axes>"
      ]
     },
     "metadata": {},
     "output_type": "display_data"
    }
   ],
   "source": [
    "[fig, ax] = plt.subplots(1, 2, figsize=(15, 6))\n",
    "gender_counts = np.unique(hubway_data['gender'].replace(np.nan, 'NaN', regex=True).values, return_counts=True)\n",
    "ax[0].bar(range(3), gender_counts[1], align='center', color=['orange', 'green', 'teal'], alpha=0.5)\n",
    "ax[0].set_xticks([0, 1, 2])\n",
    "ax[0].set_xticklabels(['none', 'male', 'female', ' '])\n",
    "ax[0].set_title('Users by Gender')\n",
    "\n",
    "age_col = 2017.0 - hubway_data['birth_date'].dropna().values\n",
    "age_counts = np.unique(age_col, return_counts=True)\n",
    "ax[1].bar(age_counts[0], age_counts[1], align='center', width=0.4, alpha=0.6)\n",
    "ax[1].axvline(x=np.mean(age_col), color='red', label='average age')\n",
    "ax[1].axvline(x=np.percentile(age_col, 25), color='red', linestyle='--', label='lower quartile')\n",
    "ax[1].axvline(x=np.percentile(age_col, 75), color='red', linestyle='--', label='upper quartile')\n",
    "ax[1].set_xlim([1, 90])\n",
    "ax[1].set_xlabel('Age')\n",
    "ax[1].set_ylabel('Number of Checkouts')\n",
    "ax[1].legend()\n",
    "ax[1].set_title('Users by Age')\n",
    "\n",
    "plt.tight_layout()\n",
    "plt.show()"
   ]
  },
  {
   "cell_type": "markdown",
   "metadata": {},
   "source": [
    "# Where"
   ]
  },
  {
   "cell_type": "code",
   "execution_count": 6,
   "metadata": {
    "collapsed": false
   },
   "outputs": [
    {
     "name": "stdout",
     "output_type": "stream",
     "text": [
      "   id        lat        lng\n",
      "0   3  42.340021 -71.100812\n",
      "1   4  42.345392 -71.069616\n",
      "2   5  42.341814 -71.090179\n",
      "3   6  42.361285 -71.065140\n",
      "4   7  42.353412 -71.044624\n"
     ]
    },
    {
     "data": {
      "text/html": [
       "<div>\n",
       "<style scoped>\n",
       "    .dataframe tbody tr th:only-of-type {\n",
       "        vertical-align: middle;\n",
       "    }\n",
       "\n",
       "    .dataframe tbody tr th {\n",
       "        vertical-align: top;\n",
       "    }\n",
       "\n",
       "    .dataframe thead th {\n",
       "        text-align: right;\n",
       "    }\n",
       "</style>\n",
       "<table border=\"1\" class=\"dataframe\">\n",
       "  <thead>\n",
       "    <tr style=\"text-align: right;\">\n",
       "      <th></th>\n",
       "      <th>seq_id</th>\n",
       "      <th>hubway_id</th>\n",
       "      <th>status</th>\n",
       "      <th>duration</th>\n",
       "      <th>start_date</th>\n",
       "      <th>strt_statn</th>\n",
       "      <th>end_date</th>\n",
       "      <th>end_statn</th>\n",
       "      <th>bike_nr</th>\n",
       "      <th>subsc_type</th>\n",
       "      <th>zip_code</th>\n",
       "      <th>birth_date</th>\n",
       "      <th>gender</th>\n",
       "    </tr>\n",
       "  </thead>\n",
       "  <tbody>\n",
       "    <tr>\n",
       "      <th>0</th>\n",
       "      <td>1</td>\n",
       "      <td>8</td>\n",
       "      <td>Closed</td>\n",
       "      <td>9</td>\n",
       "      <td>7/28/2011 10:12:00</td>\n",
       "      <td>23.0</td>\n",
       "      <td>7/28/2011 10:12:00</td>\n",
       "      <td>23.0</td>\n",
       "      <td>B00468</td>\n",
       "      <td>Registered</td>\n",
       "      <td>'97217</td>\n",
       "      <td>1976.0</td>\n",
       "      <td>Male</td>\n",
       "    </tr>\n",
       "    <tr>\n",
       "      <th>1</th>\n",
       "      <td>2</td>\n",
       "      <td>9</td>\n",
       "      <td>Closed</td>\n",
       "      <td>220</td>\n",
       "      <td>7/28/2011 10:21:00</td>\n",
       "      <td>23.0</td>\n",
       "      <td>7/28/2011 10:25:00</td>\n",
       "      <td>23.0</td>\n",
       "      <td>B00554</td>\n",
       "      <td>Registered</td>\n",
       "      <td>'02215</td>\n",
       "      <td>1966.0</td>\n",
       "      <td>Male</td>\n",
       "    </tr>\n",
       "    <tr>\n",
       "      <th>2</th>\n",
       "      <td>3</td>\n",
       "      <td>10</td>\n",
       "      <td>Closed</td>\n",
       "      <td>56</td>\n",
       "      <td>7/28/2011 10:33:00</td>\n",
       "      <td>23.0</td>\n",
       "      <td>7/28/2011 10:34:00</td>\n",
       "      <td>23.0</td>\n",
       "      <td>B00456</td>\n",
       "      <td>Registered</td>\n",
       "      <td>'02108</td>\n",
       "      <td>1943.0</td>\n",
       "      <td>Male</td>\n",
       "    </tr>\n",
       "    <tr>\n",
       "      <th>3</th>\n",
       "      <td>4</td>\n",
       "      <td>11</td>\n",
       "      <td>Closed</td>\n",
       "      <td>64</td>\n",
       "      <td>7/28/2011 10:35:00</td>\n",
       "      <td>23.0</td>\n",
       "      <td>7/28/2011 10:36:00</td>\n",
       "      <td>23.0</td>\n",
       "      <td>B00554</td>\n",
       "      <td>Registered</td>\n",
       "      <td>'02116</td>\n",
       "      <td>1981.0</td>\n",
       "      <td>Female</td>\n",
       "    </tr>\n",
       "    <tr>\n",
       "      <th>4</th>\n",
       "      <td>5</td>\n",
       "      <td>12</td>\n",
       "      <td>Closed</td>\n",
       "      <td>12</td>\n",
       "      <td>7/28/2011 10:37:00</td>\n",
       "      <td>23.0</td>\n",
       "      <td>7/28/2011 10:37:00</td>\n",
       "      <td>23.0</td>\n",
       "      <td>B00554</td>\n",
       "      <td>Registered</td>\n",
       "      <td>'97214</td>\n",
       "      <td>1983.0</td>\n",
       "      <td>Female</td>\n",
       "    </tr>\n",
       "  </tbody>\n",
       "</table>\n",
       "</div>"
      ],
      "text/plain": [
       "<div>\n",
       "<style scoped>\n",
       "    .dataframe tbody tr th:only-of-type {\n",
       "        vertical-align: middle;\n",
       "    }\n",
       "\n",
       "    .dataframe tbody tr th {\n",
       "        vertical-align: top;\n",
       "    }\n",
       "\n",
       "    .dataframe thead th {\n",
       "        text-align: right;\n",
       "    }\n",
       "</style>\n",
       "<table border=\"1\" class=\"dataframe\">\n",
       "  <thead>\n",
       "    <tr style=\"text-align: right;\">\n",
       "      <th></th>\n",
       "      <th>seq_id</th>\n",
       "      <th>hubway_id</th>\n",
       "      <th>status</th>\n",
       "      <th>duration</th>\n",
       "      <th>start_date</th>\n",
       "      <th>strt_statn</th>\n",
       "      <th>end_date</th>\n",
       "      <th>end_statn</th>\n",
       "      <th>bike_nr</th>\n",
       "      <th>subsc_type</th>\n",
       "      <th>zip_code</th>\n",
       "      <th>birth_date</th>\n",
       "      <th>gender</th>\n",
       "    </tr>\n",
       "  </thead>\n",
       "  <tbody>\n",
       "    <tr>\n",
       "      <th>0</th>\n",
       "      <td>1</td>\n",
       "      <td>8</td>\n",
       "      <td>Closed</td>\n",
       "      <td>9</td>\n",
       "      <td>7/28/2011 10:12:00</td>\n",
       "      <td>23.0</td>\n",
       "      <td>7/28/2011 10:12:00</td>\n",
       "      <td>23.0</td>\n",
       "      <td>B00468</td>\n",
       "      <td>Registered</td>\n",
       "      <td>'97217</td>\n",
       "      <td>1976.0</td>\n",
       "      <td>Male</td>\n",
       "    </tr>\n",
       "    <tr>\n",
       "      <th>1</th>\n",
       "      <td>2</td>\n",
       "      <td>9</td>\n",
       "      <td>Closed</td>\n",
       "      <td>220</td>\n",
       "      <td>7/28/2011 10:21:00</td>\n",
       "      <td>23.0</td>\n",
       "      <td>7/28/2011 10:25:00</td>\n",
       "      <td>23.0</td>\n",
       "      <td>B00554</td>\n",
       "      <td>Registered</td>\n",
       "      <td>'02215</td>\n",
       "      <td>1966.0</td>\n",
       "      <td>Male</td>\n",
       "    </tr>\n",
       "    <tr>\n",
       "      <th>2</th>\n",
       "      <td>3</td>\n",
       "      <td>10</td>\n",
       "      <td>Closed</td>\n",
       "      <td>56</td>\n",
       "      <td>7/28/2011 10:33:00</td>\n",
       "      <td>23.0</td>\n",
       "      <td>7/28/2011 10:34:00</td>\n",
       "      <td>23.0</td>\n",
       "      <td>B00456</td>\n",
       "      <td>Registered</td>\n",
       "      <td>'02108</td>\n",
       "      <td>1943.0</td>\n",
       "      <td>Male</td>\n",
       "    </tr>\n",
       "    <tr>\n",
       "      <th>3</th>\n",
       "      <td>4</td>\n",
       "      <td>11</td>\n",
       "      <td>Closed</td>\n",
       "      <td>64</td>\n",
       "      <td>7/28/2011 10:35:00</td>\n",
       "      <td>23.0</td>\n",
       "      <td>7/28/2011 10:36:00</td>\n",
       "      <td>23.0</td>\n",
       "      <td>B00554</td>\n",
       "      <td>Registered</td>\n",
       "      <td>'02116</td>\n",
       "      <td>1981.0</td>\n",
       "      <td>Female</td>\n",
       "    </tr>\n",
       "    <tr>\n",
       "      <th>4</th>\n",
       "      <td>5</td>\n",
       "      <td>12</td>\n",
       "      <td>Closed</td>\n",
       "      <td>12</td>\n",
       "      <td>7/28/2011 10:37:00</td>\n",
       "      <td>23.0</td>\n",
       "      <td>7/28/2011 10:37:00</td>\n",
       "      <td>23.0</td>\n",
       "      <td>B00554</td>\n",
       "      <td>Registered</td>\n",
       "      <td>'97214</td>\n",
       "      <td>1983.0</td>\n",
       "      <td>Female</td>\n",
       "    </tr>\n",
       "  </tbody>\n",
       "</table>\n",
       "</div>"
      ]
     },
     "execution_count": 6,
     "metadata": {},
     "output_type": "execute_result"
    }
   ],
   "source": [
    "hubway_stations = pd.read_csv(\"/Users/tobiasklein 1/Dropbox/Data_Science/courses/cs109/Data/hubway_data/hubway_stations.csv\", low_memory=False)[[\"id\", \"lat\", \"lng\"]] \n",
    "print(hubway_stations.head()); hubway_data.head()"
   ]
  },
  {
   "cell_type": "code",
   "execution_count": 14,
   "metadata": {
    "collapsed": false
   },
   "outputs": [
    {
     "name": "stdout",
     "output_type": "stream",
     "text": [
      "   seq_id  hubway_id  status  duration          start_date  strt_statn  \\\n",
      "0       1          8  Closed         9  7/28/2011 10:12:00        23.0   \n",
      "1       2          9  Closed       220  7/28/2011 10:21:00        23.0   \n",
      "2       3         10  Closed        56  7/28/2011 10:33:00        23.0   \n",
      "3       4         11  Closed        64  7/28/2011 10:35:00        23.0   \n",
      "4       5         12  Closed        12  7/28/2011 10:37:00        23.0   \n",
      "\n",
      "             end_date  end_statn bike_nr  subsc_type zip_code  birth_date  \\\n",
      "0  7/28/2011 10:12:00       23.0  B00468  Registered   '97217      1976.0   \n",
      "1  7/28/2011 10:25:00       23.0  B00554  Registered   '02215      1966.0   \n",
      "2  7/28/2011 10:34:00       23.0  B00456  Registered   '02108      1943.0   \n",
      "3  7/28/2011 10:36:00       23.0  B00554  Registered   '02116      1981.0   \n",
      "4  7/28/2011 10:37:00       23.0  B00554  Registered   '97214      1983.0   \n",
      "\n",
      "   gender        lat        lng  \n",
      "0    Male  42.359677 -71.059364  \n",
      "1    Male  42.359677 -71.059364  \n",
      "2    Male  42.359677 -71.059364  \n",
      "3  Female  42.359677 -71.059364  \n",
      "4  Female  42.359677 -71.059364  \n"
     ]
    }
   ],
   "source": [
    "hubway_data_with_gps = hubway_data.join(hubway_stations.set_index(\"id\"), on=\"strt_statn\")\n",
    "\n",
    "print(hubway_data_with_gps.head())\n"
   ]
  },
  {
   "cell_type": "markdown",
   "metadata": {},
   "source": [
    "![Alt](images/Lecture0_g2.png)"
   ]
  },
  {
   "cell_type": "markdown",
   "metadata": {},
   "source": [
    "# When"
   ]
  },
  {
   "cell_type": "code",
   "execution_count": 8,
   "metadata": {},
   "outputs": [
    {
     "ename": "SyntaxError",
     "evalue": "invalid syntax (<ipython-input-8-924c7e991cf7>, line 1)",
     "output_type": "error",
     "traceback": [
      "\u001b[0;36m  File \u001b[0;32m\"<ipython-input-8-924c7e991cf7>\"\u001b[0;36m, line \u001b[0;32m1\u001b[0m\n\u001b[0;31m    [-8:-6]\u001b[0m\n\u001b[0m       ^\u001b[0m\n\u001b[0;31mSyntaxError\u001b[0m\u001b[0;31m:\u001b[0m invalid syntax\n"
     ]
    }
   ],
   "source": [
    "[-8:-6]"
   ]
  },
  {
   "cell_type": "code",
   "execution_count": 9,
   "metadata": {
    "collapsed": true
   },
   "outputs": [],
   "source": [
    "#check_out_times = pd.to_datetime(hubway_data['start_date'])\n",
    "check_out_hours = hubway_data[\"start_date\"].apply(lambda s: int(s[-8:-6]))"
   ]
  },
  {
   "cell_type": "code",
   "execution_count": 18,
   "metadata": {
    "collapsed": false
   },
   "outputs": [
    {
     "data": {
      "image/png": "[encoded data removed]",
      "text/plain": [
       "<Figure size 720x360 with 1 Axes>"
      ]
     },
     "metadata": {},
     "output_type": "display_data"
    }
   ],
   "source": [
    "fig, ax = plt.subplots(1, 1, figsize=(10, 5))\n",
    "\n",
    "check_out_counts = np.unique(check_out_hours, return_counts=True)\n",
    "ax.bar(check_out_counts[0], check_out_counts[1], align='center', width=0.4, alpha=0.6)\n",
    "ax.set_xlim([-1, 24])\n",
    "ax.set_xticks(range(24))\n",
    "ax.set_xlabel('Hour of Day')\n",
    "ax.set_ylabel('Number of Checkouts')\n",
    "ax.set_title('Time of Day vs Checkouts')\n",
    "\n",
    "plt.show()"
   ]
  },
  {
   "cell_type": "markdown",
   "metadata": {},
   "source": [
    "# How"
   ]
  },
  {
   "cell_type": "code",
   "execution_count": 10,
   "metadata": {
    "collapsed": true
   },
   "outputs": [],
   "source": [
    "def haversine(pt, lat2=42.355589, lon2=-71.060175):\n",
    "    \"\"\"\n",
    "    Calculate the great circle distance between two points \n",
    "    on the earth (specified in decimal degrees)\n",
    "    \"\"\"\n",
    "    lon1 = pt[0]\n",
    "    lat1 = pt[1]\n",
    "    \n",
    "    # convert decimal degrees to radians \n",
    "    lon1, lat1, lon2, lat2 = map(radians, [lon1, lat1, lon2, lat2])\n",
    "\n",
    "    # haversine formula \n",
    "    dlon = lon2 - lon1 \n",
    "    dlat = lat2 - lat1 \n",
    "    a = sin(dlat/2)**2 + cos(lat1) * cos(lat2) * sin(dlon/2)**2\n",
    "    c = 2 * asin(sqrt(a)) \n",
    "    r = 3956 # Radius of earth in miles\n",
    "    return c * r"
   ]
  },
  {
   "cell_type": "code",
   "execution_count": 11,
   "metadata": {
    "collapsed": false
   },
   "outputs": [
    {
     "data": {
      "text/html": [
       "<div>\n",
       "<style scoped>\n",
       "    .dataframe tbody tr th:only-of-type {\n",
       "        vertical-align: middle;\n",
       "    }\n",
       "\n",
       "    .dataframe tbody tr th {\n",
       "        vertical-align: top;\n",
       "    }\n",
       "\n",
       "    .dataframe thead th {\n",
       "        text-align: right;\n",
       "    }\n",
       "</style>\n",
       "<table border=\"1\" class=\"dataframe\">\n",
       "  <thead>\n",
       "    <tr style=\"text-align: right;\">\n",
       "      <th></th>\n",
       "      <th>id</th>\n",
       "      <th>checkouts</th>\n",
       "      <th>lat</th>\n",
       "      <th>lng</th>\n",
       "    </tr>\n",
       "  </thead>\n",
       "  <tbody>\n",
       "    <tr>\n",
       "      <th>0</th>\n",
       "      <td>3.0</td>\n",
       "      <td>9734</td>\n",
       "      <td>42.340021</td>\n",
       "      <td>-71.100812</td>\n",
       "    </tr>\n",
       "    <tr>\n",
       "      <th>1</th>\n",
       "      <td>4.0</td>\n",
       "      <td>18058</td>\n",
       "      <td>42.345392</td>\n",
       "      <td>-71.069616</td>\n",
       "    </tr>\n",
       "    <tr>\n",
       "      <th>2</th>\n",
       "      <td>5.0</td>\n",
       "      <td>10630</td>\n",
       "      <td>42.341814</td>\n",
       "      <td>-71.090179</td>\n",
       "    </tr>\n",
       "    <tr>\n",
       "      <th>3</th>\n",
       "      <td>6.0</td>\n",
       "      <td>23322</td>\n",
       "      <td>42.361285</td>\n",
       "      <td>-71.065140</td>\n",
       "    </tr>\n",
       "    <tr>\n",
       "      <th>4</th>\n",
       "      <td>7.0</td>\n",
       "      <td>9163</td>\n",
       "      <td>42.353412</td>\n",
       "      <td>-71.044624</td>\n",
       "    </tr>\n",
       "  </tbody>\n",
       "</table>\n",
       "</div>"
      ],
      "text/plain": [
       "<div>\n",
       "<style scoped>\n",
       "    .dataframe tbody tr th:only-of-type {\n",
       "        vertical-align: middle;\n",
       "    }\n",
       "\n",
       "    .dataframe tbody tr th {\n",
       "        vertical-align: top;\n",
       "    }\n",
       "\n",
       "    .dataframe thead th {\n",
       "        text-align: right;\n",
       "    }\n",
       "</style>\n",
       "<table border=\"1\" class=\"dataframe\">\n",
       "  <thead>\n",
       "    <tr style=\"text-align: right;\">\n",
       "      <th></th>\n",
       "      <th>id</th>\n",
       "      <th>checkouts</th>\n",
       "      <th>lat</th>\n",
       "      <th>lng</th>\n",
       "    </tr>\n",
       "  </thead>\n",
       "  <tbody>\n",
       "    <tr>\n",
       "      <th>0</th>\n",
       "      <td>3.0</td>\n",
       "      <td>9734</td>\n",
       "      <td>42.340021</td>\n",
       "      <td>-71.100812</td>\n",
       "    </tr>\n",
       "    <tr>\n",
       "      <th>1</th>\n",
       "      <td>4.0</td>\n",
       "      <td>18058</td>\n",
       "      <td>42.345392</td>\n",
       "      <td>-71.069616</td>\n",
       "    </tr>\n",
       "    <tr>\n",
       "      <th>2</th>\n",
       "      <td>5.0</td>\n",
       "      <td>10630</td>\n",
       "      <td>42.341814</td>\n",
       "      <td>-71.090179</td>\n",
       "    </tr>\n",
       "    <tr>\n",
       "      <th>3</th>\n",
       "      <td>6.0</td>\n",
       "      <td>23322</td>\n",
       "      <td>42.361285</td>\n",
       "      <td>-71.065140</td>\n",
       "    </tr>\n",
       "    <tr>\n",
       "      <th>4</th>\n",
       "      <td>7.0</td>\n",
       "      <td>9163</td>\n",
       "      <td>42.353412</td>\n",
       "      <td>-71.044624</td>\n",
       "    </tr>\n",
       "  </tbody>\n",
       "</table>\n",
       "</div>"
      ]
     },
     "execution_count": 11,
     "metadata": {},
     "output_type": "execute_result"
    }
   ],
   "source": [
    "station_counts = np.unique(hubway_data_with_gps[\"strt_statn\"].dropna(), return_counts=True)\n",
    "counts_df = pd.DataFrame({'id':station_counts[0], 'checkouts':station_counts[1]})\n",
    "counts_df = counts_df.join(hubway_stations.set_index('id'), on='id')\n",
    "counts_df.head()"
   ]
  },
  {
   "cell_type": "code",
   "execution_count": 24,
   "metadata": {
    "collapsed": false
   },
   "outputs": [
    {
     "data": {
      "text/html": [
       "<div>\n",
       "<style scoped>\n",
       "    .dataframe tbody tr th:only-of-type {\n",
       "        vertical-align: middle;\n",
       "    }\n",
       "\n",
       "    .dataframe tbody tr th {\n",
       "        vertical-align: top;\n",
       "    }\n",
       "\n",
       "    .dataframe thead th {\n",
       "        text-align: right;\n",
       "    }\n",
       "</style>\n",
       "<table border=\"1\" class=\"dataframe\">\n",
       "  <thead>\n",
       "    <tr style=\"text-align: right;\">\n",
       "      <th></th>\n",
       "      <th>id</th>\n",
       "      <th>checkouts</th>\n",
       "      <th>lat</th>\n",
       "      <th>lng</th>\n",
       "      <th>dist_to_center</th>\n",
       "    </tr>\n",
       "  </thead>\n",
       "  <tbody>\n",
       "    <tr>\n",
       "      <th>0</th>\n",
       "      <td>3.0</td>\n",
       "      <td>9734</td>\n",
       "      <td>42.340021</td>\n",
       "      <td>-71.100812</td>\n",
       "      <td>2.335706</td>\n",
       "    </tr>\n",
       "    <tr>\n",
       "      <th>1</th>\n",
       "      <td>4.0</td>\n",
       "      <td>18058</td>\n",
       "      <td>42.345392</td>\n",
       "      <td>-71.069616</td>\n",
       "      <td>0.853095</td>\n",
       "    </tr>\n",
       "    <tr>\n",
       "      <th>2</th>\n",
       "      <td>5.0</td>\n",
       "      <td>10630</td>\n",
       "      <td>42.341814</td>\n",
       "      <td>-71.090179</td>\n",
       "      <td>1.802423</td>\n",
       "    </tr>\n",
       "    <tr>\n",
       "      <th>3</th>\n",
       "      <td>6.0</td>\n",
       "      <td>23322</td>\n",
       "      <td>42.361285</td>\n",
       "      <td>-71.065140</td>\n",
       "      <td>0.467803</td>\n",
       "    </tr>\n",
       "    <tr>\n",
       "      <th>4</th>\n",
       "      <td>7.0</td>\n",
       "      <td>9163</td>\n",
       "      <td>42.353412</td>\n",
       "      <td>-71.044624</td>\n",
       "      <td>0.807582</td>\n",
       "    </tr>\n",
       "  </tbody>\n",
       "</table>\n",
       "</div>"
      ],
      "text/plain": [
       "<div>\n",
       "<style scoped>\n",
       "    .dataframe tbody tr th:only-of-type {\n",
       "        vertical-align: middle;\n",
       "    }\n",
       "\n",
       "    .dataframe tbody tr th {\n",
       "        vertical-align: top;\n",
       "    }\n",
       "\n",
       "    .dataframe thead th {\n",
       "        text-align: right;\n",
       "    }\n",
       "</style>\n",
       "<table border=\"1\" class=\"dataframe\">\n",
       "  <thead>\n",
       "    <tr style=\"text-align: right;\">\n",
       "      <th></th>\n",
       "      <th>id</th>\n",
       "      <th>checkouts</th>\n",
       "      <th>lat</th>\n",
       "      <th>lng</th>\n",
       "      <th>dist_to_center</th>\n",
       "    </tr>\n",
       "  </thead>\n",
       "  <tbody>\n",
       "    <tr>\n",
       "      <th>0</th>\n",
       "      <td>3.0</td>\n",
       "      <td>9734</td>\n",
       "      <td>42.340021</td>\n",
       "      <td>-71.100812</td>\n",
       "      <td>2.335706</td>\n",
       "    </tr>\n",
       "    <tr>\n",
       "      <th>1</th>\n",
       "      <td>4.0</td>\n",
       "      <td>18058</td>\n",
       "      <td>42.345392</td>\n",
       "      <td>-71.069616</td>\n",
       "      <td>0.853095</td>\n",
       "    </tr>\n",
       "    <tr>\n",
       "      <th>2</th>\n",
       "      <td>5.0</td>\n",
       "      <td>10630</td>\n",
       "      <td>42.341814</td>\n",
       "      <td>-71.090179</td>\n",
       "      <td>1.802423</td>\n",
       "    </tr>\n",
       "    <tr>\n",
       "      <th>3</th>\n",
       "      <td>6.0</td>\n",
       "      <td>23322</td>\n",
       "      <td>42.361285</td>\n",
       "      <td>-71.065140</td>\n",
       "      <td>0.467803</td>\n",
       "    </tr>\n",
       "    <tr>\n",
       "      <th>4</th>\n",
       "      <td>7.0</td>\n",
       "      <td>9163</td>\n",
       "      <td>42.353412</td>\n",
       "      <td>-71.044624</td>\n",
       "      <td>0.807582</td>\n",
       "    </tr>\n",
       "  </tbody>\n",
       "</table>\n",
       "</div>"
      ]
     },
     "execution_count": 24,
     "metadata": {},
     "output_type": "execute_result"
    }
   ],
   "source": [
    "counts_df.loc[:, 'dist_to_center'] = list(map(haversine, counts_df[['lng', 'lat']].values))\n",
    "counts_df.head()"
   ]
  },
  {
   "cell_type": "code",
   "execution_count": 25,
   "metadata": {
    "collapsed": false
   },
   "outputs": [
    {
     "name": "stderr",
     "output_type": "stream",
     "text": [
      "/Users/tobiasklein 1/PycharmsProjects/sogood/env/lib/python3.7/site-packages/sklearn/linear_model/base.py:485: RuntimeWarning: internal gelsd driver lwork query error, required iwork dimension not returned. This is likely the result of LAPACK bug 0038, fixed in LAPACK 3.2.2 (released July 21, 2010). Falling back to 'gelss' driver.\n",
      "  linalg.lstsq(X, y)\n"
     ]
    },
    {
     "data": {
      "image/png": "[encoded data removed]",
      "text/plain": [
       "<Figure size 720x360 with 1 Axes>"
      ]
     },
     "metadata": {},
     "output_type": "display_data"
    }
   ],
   "source": [
    "fig, ax = plt.subplots(1, 1, figsize=(10, 5))\n",
    "\n",
    "ax.scatter(counts_df['dist_to_center'].values, counts_df['checkouts'].values)\n",
    "\n",
    "reg_line = LinearRegression()\n",
    "reg_line.fit(counts_df['dist_to_center'].values.reshape((len(counts_df['dist_to_center']), 1)), counts_df['checkouts'].values)\n",
    "\n",
    "distances = np.linspace(counts_df['dist_to_center'].min(), counts_df['dist_to_center'].max(), 50)\n",
    "\n",
    "ax.plot(distances, reg_line.predict(distances.reshape((len(distances), 1))), color='red', label='Regression Line')\n",
    "\n",
    "ax.set_xlabel('Distance to City Center (Miles)')\n",
    "ax.set_ylabel('Number of Checkouts')\n",
    "ax.set_title('Distance to City Center vs Checkouts')\n",
    "ax.legend()\n",
    "\n",
    "plt.show()"
   ]
  },
  {
   "cell_type": "code",
   "execution_count": 21,
   "metadata": {
    "collapsed": true
   },
   "outputs": [],
   "source": []
  }
 ],
 "metadata": {
  "anaconda-cloud": {},
  "kernelspec": {
   "display_name": "Python 3",
   "language": "python",
   "name": "python3"
  },
  "language_info": {
   "codemirror_mode": {
    "name": "ipython",
    "version": 3
   },
   "file_extension": ".py",
   "mimetype": "text/x-python",
   "name": "python",
   "nbconvert_exporter": "python",
   "pygments_lexer": "ipython3",
   "version": "3.7.0"
  }
 },
 "nbformat": 4,
 "nbformat_minor": 2
}
